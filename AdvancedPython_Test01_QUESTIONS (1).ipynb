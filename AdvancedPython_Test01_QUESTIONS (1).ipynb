{
  "nbformat": 4,
  "nbformat_minor": 0,
  "metadata": {
    "colab": {
      "provenance": []
    },
    "kernelspec": {
      "name": "python3",
      "display_name": "Python 3"
    },
    "language_info": {
      "name": "python"
    }
  },
  "cells": [
    {
      "cell_type": "markdown",
      "source": [
        "# AIChampionsHub : Python Learning Series\n",
        "# COURSE : Advanced Python for Data and Analysis\n",
        "# QUESTIONS - 10 Questions to be Answered by Students using Python CODE\n",
        "## Topics Covered So far:\n",
        "- ***Module 1 : Data Manipulation in Python: ***\n",
        "  -\tNumpy Mastery\n",
        "  -\tFile Handling and Manipulation – CSV, PDF, JSONs.\n",
        "  -\tPandas and Dataframe\n",
        "    – Data Sourcing - reading from files, databases\n",
        "    - Metadata - Columns, Names, Datatypes etc.\n",
        "  -\tData Analysis using Dataframe\n",
        "    - Basic data statistics\n",
        "    - Data quality i.e. nulls, missing values.\n",
        "    - Aggregate Data Analysis using GroupBy - Summary\n",
        "  - Approach\n",
        "-  ***Module 2 : SQL Based Structured data management***\n",
        "  -\tRDBMS, SQL Basic Concepts\n",
        "  - SQLLite Installation, Libraries, Sample Database\n",
        "  - Connecting to a SQL database, Understanding schema and Objects\n",
        "  - Basic Data Handling using SQL as main processing engine - Select, Groupby, Joins, Insert, Update etc.  \n",
        "  -\tData Analysis using Dataframe with data from SQL\n",
        "\n"
      ],
      "metadata": {
        "id": "gFSB-grkwpF8"
      }
    },
    {
      "cell_type": "markdown",
      "source": [
        "# Based on the concepts learned please perform answer questions using data provide\n",
        "- Input file to be used : Superstore.csv\n",
        "- The file contains sales data for a fictional retail company, including information on products, orders and customers."
      ],
      "metadata": {
        "id": "WOjG3qMsy6BB"
      }
    },
    {
      "cell_type": "markdown",
      "source": [
        "## Question 1 : Basic Analysis of Data\n",
        "\n"
      ],
      "metadata": {
        "id": "kZRwtTrankJT"
      }
    },
    {
      "cell_type": "code",
      "source": [
        "print(\"\\n Q1 - Here is a basic information about the datafile\")\n",
        "print(\"\\n 1A - Number of Rows is : \")\n",
        "print(\"\\n 1B - Number of Columns is : \")"
      ],
      "metadata": {
        "id": "ixnJxHxo4OPg",
        "colab": {
          "base_uri": "https://localhost:8080/"
        },
        "outputId": "3a5d2a5f-714c-4f89-857c-5abbb1921a96"
      },
      "execution_count": 1,
      "outputs": [
        {
          "output_type": "stream",
          "name": "stdout",
          "text": [
            "\n",
            " Q1 - Here is a basic information about the datafile\n",
            "\n",
            " 1A - Number of Rows is : \n",
            "\n",
            " 1B - Number of Columns is : \n"
          ]
        }
      ]
    },
    {
      "cell_type": "markdown",
      "source": [
        "## Question 2 : Test ability to analyze few data values.\n",
        "Example - Students to be able to get Order details and print the Order ID of first row and last row in the RAW data file"
      ],
      "metadata": {
        "id": "HTLdYfk-oHIK"
      }
    },
    {
      "cell_type": "code",
      "source": [
        "print(\"Q2 - Here is the Order Number of First Order and Last Order in the file as loaded\")"
      ],
      "metadata": {
        "id": "n95xCgbUoQtK"
      },
      "execution_count": null,
      "outputs": []
    },
    {
      "cell_type": "markdown",
      "source": [
        "## Question 3 : Test ability to Understand the Quality of Data\n",
        "Example - Basic quality information as to how many null values are there in the data. Example even though there is Order data, do we have basic information like Customer or Sales for all orders."
      ],
      "metadata": {
        "id": "TECDxudmopIr"
      }
    },
    {
      "cell_type": "code",
      "source": [
        "print(\"Q3 : Data Quality Analysis\")\n",
        "print(\"Hint : isnull() method of a dataframe can be used to check if we have any invalid values in the dataset\").\n",
        "print(\"Note = this method would result in True or False output. So you may have to use filtering technique\")"
      ],
      "metadata": {
        "id": "7_4cRofNpDAT"
      },
      "execution_count": null,
      "outputs": []
    },
    {
      "cell_type": "markdown",
      "source": [
        "## Question 4 : Now that we know there is some \"Order\" records with bad data quality like empty. We can remove the bad records\n",
        "Note - hints have been given"
      ],
      "metadata": {
        "id": "iZKEyIxrp4lz"
      }
    },
    {
      "cell_type": "code",
      "source": [
        "print(\"Q4 : Create a Clean Dataframe - one without any null values. call it df_cleaned\")\n",
        "print(\"Hint : dropna() method of a dataframe can be used to drop rows with null values.\")\n",
        "print(\"Note inplace=True parameter of the dropna() method will drop the rows and update the dataframe so that we can cleaned-up data in original dataframe. But here we are creating a new dataframe\")"
      ],
      "metadata": {
        "id": "5NXChSq7_ci5"
      },
      "execution_count": null,
      "outputs": []
    },
    {
      "cell_type": "markdown",
      "source": [
        "## Question 5 : Test the ability to Change Datatype of a Column.\n",
        "Note: When reading from a file, the default datatype may not be what we expect it to be for a column.\n",
        "- Example: Analyse if Numeric columns like Sales have the right type.\n",
        "- Example: Analyse the type of Date Columns\n",
        "More important is ability to force a particular datatype for columns with Datatype mismatch"
      ],
      "metadata": {
        "id": "StNYHzJkq2eU"
      }
    },
    {
      "cell_type": "code",
      "source": [
        "print(\"\\n Q5 - Change the Datatype of Date Columns to Date.\")\n",
        "print(\"\\n Hint : You can use to_datetime() method of Pandas or you can use astype() method of dataframe to convert one column of dataframe to datetime\")\n",
        "print(\"\\n Please note the datatype to be specific would be datetime64[ns] example df.astype(datetime64[ns]) \")"
      ],
      "metadata": {
        "id": "Vo944T4_rzAN"
      },
      "execution_count": null,
      "outputs": []
    },
    {
      "cell_type": "markdown",
      "source": [
        "## Question 6 : Test the Ability to Summarise data.\n",
        "- Students should be able to get basic statistics about the data like Average Sales, Total Quantity of Products sold etc.\n",
        "- Note : This mainly applies to Numeric Data."
      ],
      "metadata": {
        "id": "01qf7XPSsnSj"
      }
    },
    {
      "cell_type": "code",
      "source": [
        "print(\"\\n Q6 - What is the value of Average Sales, Average Quantity and Average Profit\")"
      ],
      "metadata": {
        "id": "xDj2_qqmtcWy"
      },
      "execution_count": null,
      "outputs": []
    },
    {
      "cell_type": "markdown",
      "source": [
        "## Question 7 : Test the Ability to Create New Measures or Metric from existign data.\n",
        "- Example : Using Sales and Profit values we can calculate Percentages or new differences etc."
      ],
      "metadata": {
        "id": "ZqmlVXjEtkQj"
      }
    },
    {
      "cell_type": "code",
      "source": [
        "print(\"\\n Q7 - We are given Sales and Profit. Please create a new column named Revenue using the formula given below:\")\n",
        "print(\"\\n Formula for Revenue to be used for this example: Revenue = Sales - Profit \")\n",
        "print(\"\\n Show a proof that new column got created and should few examples that calculation worked \")"
      ],
      "metadata": {
        "id": "bdRPWvu-tytz"
      },
      "execution_count": null,
      "outputs": []
    },
    {
      "cell_type": "markdown",
      "source": [
        "## Question 8 : Test the Ability to stored processed data back to a file in any format like CSV or excel\n",
        "- Note: If using Colab, the file will be stored in colab. Students should be able to download this file, save with their name and share.\n",
        "- Example superstore_cleaned_rollno_100.csv"
      ],
      "metadata": {
        "id": "Pj9MJz7vu2aC"
      }
    },
    {
      "cell_type": "code",
      "source": [
        "print(\"\\n Q8 - Save this resulting dataframe to a file. Name of the file should be superstore_cleaned.csv\")\n",
        "print(\"\\n Hint: You can use to_csv() method to save data from a dataframe to a file\")"
      ],
      "metadata": {
        "id": "Nf39YKorA7xv"
      },
      "execution_count": null,
      "outputs": []
    },
    {
      "cell_type": "markdown",
      "source": [
        "## Question 9 : Test the ability to Summaries dataset using Groupby and used the summarized dataframe to answer key business questions"
      ],
      "metadata": {
        "id": "67kUVoGFvrr6"
      }
    },
    {
      "cell_type": "code",
      "source": [
        "print(\"\\n Q9 - Group the Sales, Discount, Profit and Revenue by each Day and Print the list in sorted order - ascending\")\n",
        "print(\"\\n Hint 1: use groupby method of dataframe. Example to group data by shipped date we can use df.groupby('Ship Date')\")\n",
        "print(\"\\n Hint 2: You can provide a 'list of columns to be included in the Group by resulting dataframe. example df.groupby('Ship Date')[list of columns]\")\n",
        "print(\"\\n Hint 3: for operations on grouped data, use sum() as method. example df.groupby('Ship Date')[list of columns].sum()\")"
      ],
      "metadata": {
        "id": "F7r1jatEB0Vw"
      },
      "execution_count": null,
      "outputs": []
    },
    {
      "cell_type": "markdown",
      "source": [
        "## Question 10 : Test the ability to use the Grouped Dataframe\n",
        "- First : Be able to analyse specific rows or columns of Grouped data. Like first or last row.\n",
        "- Second, Be able to analyse Summary of the data like Average Sales, Quantity"
      ],
      "metadata": {
        "id": "PPR0Q7wOwQ86"
      }
    },
    {
      "cell_type": "code",
      "source": [
        "print(\"\\n Q10A - Print the first date of sale record in our system and last date of sale record in our system\")\n",
        "print(\"\\n Hint: You can use min() and max() methods of dataframe to get the first and last date of sale record in our system\")"
      ],
      "metadata": {
        "id": "o9FXCGGfD3hX"
      },
      "execution_count": null,
      "outputs": []
    },
    {
      "cell_type": "code",
      "source": [
        "print(\"\\n Q10B - Please print the Category which has Highest Sales and Category that has highest profit\")\n",
        "print(\"\\n Are they the same\")"
      ],
      "metadata": {
        "id": "s9cirRbvBk_v"
      },
      "execution_count": null,
      "outputs": []
    },
    {
      "cell_type": "markdown",
      "source": [
        "# Here Write down your Analysis output in two or three sentences"
      ],
      "metadata": {
        "id": "PgqG2dPjx6UK"
      }
    },
    {
      "cell_type": "code",
      "source": [
        "print(\"\\n BONUS - Analyse the results and see if there is difference based on category\")"
      ],
      "metadata": {
        "id": "CVu5rPyXxMHk"
      },
      "execution_count": null,
      "outputs": []
    },
    {
      "cell_type": "markdown",
      "source": [
        "#\"Thank you ! Now Save the Notebook and Submit your Saved Notebook with Output with you professor\")"
      ],
      "metadata": {
        "id": "8-O_sDN6xHwD"
      }
    }
  ]
}