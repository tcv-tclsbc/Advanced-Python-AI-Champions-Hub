{
  "nbformat": 4,
  "nbformat_minor": 0,
  "metadata": {
    "colab": {
      "provenance": []
    },
    "kernelspec": {
      "name": "python3",
      "display_name": "Python 3"
    },
    "language_info": {
      "name": "python"
    }
  },
  "cells": [
    {
      "cell_type": "markdown",
      "source": [
        "\n",
        "# AIChampionsHub : Advanced Python Course\n",
        "## Lesson on : Object Oriented Programming\n",
        "\n",
        "OOPs is a important Programming Paradigm. In this you will learn about the basic building blocks of OOPs based programming using Python\n",
        "- Classes\n",
        "- Attributes\n",
        "- Methods\n",
        "- Objects and Instantiation\n",
        "- Workout Examples have playing with Objects and Classes"
      ],
      "metadata": {
        "id": "RSFPiZBxiWRB"
      }
    },
    {
      "cell_type": "markdown",
      "source": [
        "## Example: Imagine you are Manager of a Zoo. There are various types of Animals. We will use this example to illustrate OOPs for an Application for the Zoo"
      ],
      "metadata": {
        "id": "PESZwrZvi8Db"
      }
    },
    {
      "cell_type": "markdown",
      "source": [
        "# Step 1 : # Define a Animal Class\n",
        "- Class has a name\n",
        "- use the 'class' keyword to define a class.\n",
        "- End with ':'"
      ],
      "metadata": {
        "id": "giwl9VzQja1I"
      }
    },
    {
      "cell_type": "code",
      "source": [
        "class Animal:\n",
        "      # Attributes\n",
        "      # Methods or Functions"
      ],
      "metadata": {
        "id": "VehPRJ1qWf7Q"
      },
      "execution_count": null,
      "outputs": []
    },
    {
      "cell_type": "markdown",
      "source": [
        "# Step 2 : Add Details to the class\n",
        "- Attributes: Say the Zoo manager wants to track name, age and few details of the Animals\n",
        "- Methods: Second, as the animal changes, he will want to model the behavior of the animal. example as animal grows we want to update his age. Implement this as a method of the class."
      ],
      "metadata": {
        "id": "U2mnOl-CjYB0"
      }
    },
    {
      "cell_type": "code",
      "source": [
        "# TEMPLATE OF AN ANIMAL CLASS as EXAMPLE\n",
        "class Animal:\n",
        "    def __init__(self, name, type, age):\n",
        "        self.name = name\n",
        "        self.type = type  # Type of Animal\n",
        "        self.age = age\n",
        "        print(f\"Animal Instantiated with a name of : {self.name}\")\n",
        "\n",
        "    def makesound(self):\n",
        "        print(\"Hello this is my sound\")\n",
        "\n",
        "    def updateAge(self, age):\n",
        "        self.age = self.age + 2 # Change this to illustrate concept\n",
        "        print(f\"{self.name} is {self.age} years old\")"
      ],
      "metadata": {
        "id": "uBCBFM-sWf8m"
      },
      "execution_count": 4,
      "outputs": []
    },
    {
      "cell_type": "markdown",
      "source": [
        "## Step 4 : Objects\n",
        "Objects are instances of the Class. They are specific Instances of concept called \"Animal\".\n",
        "- In this case we create a specific Cat and a Dog that got admitted to the Zoo"
      ],
      "metadata": {
        "id": "M_KSuHArkG3G"
      }
    },
    {
      "cell_type": "code",
      "source": [
        "# Instantiate Objects\n",
        "mycat = Animal(\"shiro\",\"cat\",\"7\")"
      ],
      "metadata": {
        "colab": {
          "base_uri": "https://localhost:8080/"
        },
        "id": "vLJyZytKYLul",
        "outputId": "8c7ea79f-2ab4-48a4-ee95-a41383fe1659"
      },
      "execution_count": 9,
      "outputs": [
        {
          "output_type": "stream",
          "name": "stdout",
          "text": [
            "Animal Instantiated with a name of : shiro\n"
          ]
        }
      ]
    },
    {
      "cell_type": "code",
      "source": [
        "# Instantiate Objects\n",
        "mydog = Animal(\"pyro\",\"dog\",\"5\")"
      ],
      "metadata": {
        "colab": {
          "base_uri": "https://localhost:8080/"
        },
        "id": "JtHsRwpZZAVe",
        "outputId": "99b250d6-7bcd-42c6-cdfa-da08cb8eb12d"
      },
      "execution_count": 10,
      "outputs": [
        {
          "output_type": "stream",
          "name": "stdout",
          "text": [
            "Animal Instantiated with a name of : pyro\n"
          ]
        }
      ]
    },
    {
      "cell_type": "code",
      "source": [
        "print(mycat) # Look at the Address or type etc.\n",
        "print(mydog)"
      ],
      "metadata": {
        "colab": {
          "base_uri": "https://localhost:8080/"
        },
        "id": "5YsLPhzRZPlI",
        "outputId": "9610b60a-94cb-47fe-8d3e-59fa1ba3396d"
      },
      "execution_count": 9,
      "outputs": [
        {
          "output_type": "stream",
          "name": "stdout",
          "text": [
            "<__main__.Animal object at 0x7dec10155dd0>\n",
            "<__main__.Animal object at 0x7dec1010d490>\n"
          ]
        }
      ]
    },
    {
      "cell_type": "code",
      "source": [
        "mycat == mydog # They are different Objects"
      ],
      "metadata": {
        "colab": {
          "base_uri": "https://localhost:8080/"
        },
        "id": "mkR49VGQZZWN",
        "outputId": "51327e29-8832-4703-acdb-f5d48141d91c"
      },
      "execution_count": 10,
      "outputs": [
        {
          "output_type": "execute_result",
          "data": {
            "text/plain": [
              "False"
            ]
          },
          "metadata": {},
          "execution_count": 10
        }
      ]
    },
    {
      "cell_type": "markdown",
      "source": [
        "# Step 5 : Object Manipulation\n",
        "- You can access Details of an Object based on its attributes i.e. the current value of the Attributes.\n",
        "- Second you can invoke (or call) the methods of the class to perform actions"
      ],
      "metadata": {
        "id": "FAWsemyvaD7Y"
      }
    },
    {
      "cell_type": "code",
      "source": [
        "mydog.name, mydog.age"
      ],
      "metadata": {
        "colab": {
          "base_uri": "https://localhost:8080/"
        },
        "id": "kRfeYMzUaJfq",
        "outputId": "43cc451d-10be-42e8-b31c-dcc3bb577147"
      },
      "execution_count": 12,
      "outputs": [
        {
          "output_type": "execute_result",
          "data": {
            "text/plain": [
              "('pyro', '5')"
            ]
          },
          "metadata": {},
          "execution_count": 12
        }
      ]
    },
    {
      "cell_type": "markdown",
      "source": [
        "- Before we instantiate, to perform actions like Updating the Age we want to make sure the Age Attribute is of proper datatype (Integer). This is one example. So we update the class with those details.\n",
        "- When you change the definition of the Class (like UpdateAge or Age Datatype) then you need to instantiate the objects again"
      ],
      "metadata": {
        "id": "lLHx2-2ik0Ts"
      }
    },
    {
      "cell_type": "code",
      "source": [
        "class Animal:\n",
        "\n",
        "    def __init__(self, name, type, age):\n",
        "        self.name = name\n",
        "        self.type = type  # Type of Animal\n",
        "        self.age = int(age)                         # Force the DataType to be Integer\n",
        "        print(f\"Animal Instantiated with a name of : {self.name}\")\n",
        "\n",
        "    def makesound(self):\n",
        "        print(\"Hello this is my sound\")\n",
        "\n",
        "    def updateAge(self):\n",
        "        self.age = self.age + 2                    # Update Rules or Logic\n",
        "        print(f\"Hi ! {self.name} is {self.age} years old\")"
      ],
      "metadata": {
        "id": "IjXfwazFaYbB"
      },
      "execution_count": 5,
      "outputs": []
    },
    {
      "cell_type": "markdown",
      "source": [],
      "metadata": {
        "id": "EbQoLnGCkMLp"
      }
    },
    {
      "cell_type": "code",
      "source": [
        "# Instantiate Objects\n",
        "mycat = Animal(\"shiro\",\"cat\",\"7\")"
      ],
      "metadata": {
        "colab": {
          "base_uri": "https://localhost:8080/"
        },
        "id": "mjL8p5cCbfe6",
        "outputId": "bc31afaf-6be6-4e61-c172-049db883fcef"
      },
      "execution_count": 6,
      "outputs": [
        {
          "output_type": "stream",
          "name": "stdout",
          "text": [
            "Animal Instantiated with a name of : shiro\n"
          ]
        }
      ]
    },
    {
      "cell_type": "code",
      "source": [
        "mycat.updateAge()"
      ],
      "metadata": {
        "colab": {
          "base_uri": "https://localhost:8080/"
        },
        "id": "0qtv83qSbg8m",
        "outputId": "b2a11b9a-381d-4632-c0d6-6bdaccc007aa"
      },
      "execution_count": 8,
      "outputs": [
        {
          "output_type": "stream",
          "name": "stdout",
          "text": [
            "Hi ! shiro is 11 years old\n"
          ]
        }
      ]
    }
  ]
}